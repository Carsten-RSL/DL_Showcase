{
 "cells": [
  {
   "cell_type": "markdown",
   "metadata": {},
   "source": [
    "This is a small showcase to show the usage of a LSTM using PyTorch for sequence classification. I didn't found a good time series dataset, so I decided to use mnist but the steps on a time series dataset should be similar."
   ]
  },
  {
   "cell_type": "code",
   "execution_count": 1,
   "metadata": {},
   "outputs": [],
   "source": [
    "# Auto reload external libs on file change\n",
    "%load_ext autoreload\n",
    "%autoreload 2\n",
    "import os\n",
    "import pandas as pd\n",
    "import numpy as np\n",
    "import time\n",
    "import datetime\n",
    "import matplotlib.pyplot as plt\n",
    "from sklearn.metrics import *\n",
    "from joblib import dump, load\n",
    "from sklearn.preprocessing import StandardScaler\n",
    "\n",
    "# LSTM\n",
    "import torch\n",
    "import torch.utils.data\n",
    "import torch.nn as nn\n",
    "import torch.nn.functional as F\n",
    "import torch.optim as optim\n",
    "from torch.autograd import Variable\n",
    "\n",
    "import random\n",
    "\n",
    "import tensorflow as tf"
   ]
  },
  {
   "cell_type": "markdown",
   "metadata": {},
   "source": [
    "# Load data\n",
    "- I didn't found a good time series dataset, so I decided to use mnist\n",
    "- loads the mnist dataset\n",
    "- these are images and no (time) sequences but for the basic showcase we can use each picture as an sequence of 28 steps with 28 pixels (features) each"
   ]
  },
  {
   "cell_type": "code",
   "execution_count": 2,
   "metadata": {},
   "outputs": [
    {
     "data": {
      "text/plain": [
       "(60000, 28, 28)"
      ]
     },
     "execution_count": 2,
     "metadata": {},
     "output_type": "execute_result"
    }
   ],
   "source": [
    "(x_train, y_train), (x_test, y_test) = tf.keras.datasets.mnist.load_data()\n",
    "x_train.shape"
   ]
  },
  {
   "cell_type": "code",
   "execution_count": 3,
   "metadata": {},
   "outputs": [
    {
     "name": "stdout",
     "output_type": "stream",
     "text": [
      "cuda (GPU) availabe\n"
     ]
    }
   ],
   "source": [
    "# Make training deterministic\n",
    "def seed_everything(seed=1234):\n",
    "    random.seed(seed)\n",
    "    torch.manual_seed(seed)\n",
    "    np.random.seed(seed)\n",
    "    os.environ['PYTHONHASHSEED'] = str(seed)\n",
    "    torch.cuda.manual_seed(seed)\n",
    "    torch.backends.cudnn.deterministic = True\n",
    "\n",
    "seed_everything()\n",
    "\n",
    "# Check GPU support\n",
    "if torch.cuda.is_available():\n",
    "    print('cuda (GPU) availabe')\n",
    "    device = 'cuda'\n",
    "else:\n",
    "    print('Warning: only cpu available. Training is going to need much more time without a GPU')\n",
    "    device = 'cpu'"
   ]
  },
  {
   "cell_type": "markdown",
   "metadata": {},
   "source": [
    "# Model definition"
   ]
  },
  {
   "cell_type": "code",
   "execution_count": 4,
   "metadata": {},
   "outputs": [],
   "source": [
    "# Define our LSTM Model\n",
    "# Firstly we have to define a class extending the base class for all neural networks: nn.Module\n",
    "class LSTMClassifier(nn.Module):\n",
    "    \n",
    "    # Override needed functions\n",
    "    def __init__(self, input_dim, hidden_dim, num_layers, num_classes):\n",
    "        super(LSTMClassifier, self).__init__()\n",
    "        self.input_dim = input_dim\n",
    "        self.hidden_dim = hidden_dim\n",
    "        self.num_layers = num_layers\n",
    "        self.num_classes = num_classes\n",
    "        \n",
    "        # Set initial hidden and cell states \n",
    "        #self.h = torch.zeros(self.num_layers, 100, self.hidden_dim)\n",
    "        #self.c = torch.zeros(self.num_layers, 100, self.hidden_dim)\n",
    "        \n",
    "        # Define the LSTM layer(s)\n",
    "        # The LSTM takes measurements as inputs with a size of input_dim\n",
    "        # has layer_dim hidden layers\n",
    "        # and outputs hidden states with dimensionality of hidden_dim\n",
    "        # batch_first=True -> Input,Output in this format: (batch, seq, feature)\n",
    "        # otehrwise (seq, feature, batch)\n",
    "        # seq = complete sequenz, input_t = seq[timestep]\n",
    "        # feature = input_t[feature]\n",
    "        self.lstm = nn.LSTM(input_size=input_dim, hidden_size=hidden_dim, num_layers=num_layers, dropout=0.25, batch_first=True)\n",
    "                \n",
    "        # Define the output layer\n",
    "        # The linear layer that maps from hidden state to output classes\n",
    "        self.hidden2target = nn.Linear(hidden_dim, num_classes)\n",
    "    \n",
    "    # Defines the computation performed at every call\n",
    "    def forward(self, x):            \n",
    "        # Forward propagate LSTM\n",
    "        out, _ = self.lstm(x) # out: tensor of shape (batch_size, SEQUENCE_LENGTH, hidden_size)\n",
    "        \n",
    "        # Decode the hidden state of the last time step\n",
    "        out = self.hidden2target(out[:, -1, :])\n",
    "        return out"
   ]
  },
  {
   "cell_type": "code",
   "execution_count": 5,
   "metadata": {},
   "outputs": [
    {
     "name": "stdout",
     "output_type": "stream",
     "text": [
      "Start scaling\n",
      "Data preparation done\n"
     ]
    }
   ],
   "source": [
    "print('Start scaling')\n",
    "# can't deal with 3d shape - so reshape to 2D and after scaling reshape back to 3D\n",
    "SEQUENCE_LENGTH = x_train.shape[1]\n",
    "\n",
    "standard_scaler = StandardScaler()\n",
    "train = standard_scaler.fit_transform(x_train.reshape(-1, x_train.shape[-1]))\n",
    "test = standard_scaler.transform(x_test.reshape(-1, x_test.shape[-1]))\n",
    "dump(standard_scaler, 'lstm_scaler.pt')\n",
    "\n",
    "train = train.reshape(-1, SEQUENCE_LENGTH, train.shape[-1])\n",
    "test = test.reshape(-1, SEQUENCE_LENGTH, test.shape[-1])\n",
    "\n",
    "X_train_tensor = torch.from_numpy(train).type(torch.FloatTensor)\n",
    "y_train_tensor = torch.from_numpy(y_train).type(torch.LongTensor)\n",
    "X_test_tensor = torch.from_numpy(test).type(torch.FloatTensor)\n",
    "y_test_tensor = torch.from_numpy(y_test).type(torch.LongTensor)\n",
    "\n",
    "# Pytorch train and test sets\n",
    "train_ds = torch.utils.data.TensorDataset(X_train_tensor,y_train_tensor)\n",
    "test_ds = torch.utils.data.TensorDataset(X_test_tensor,y_test_tensor)\n",
    "\n",
    "# DataLoader\n",
    "batch_size = 100\n",
    "train_dl = torch.utils.data.DataLoader(train_ds, batch_size=batch_size, shuffle=False, pin_memory=True)\n",
    "test_dl = torch.utils.data.DataLoader(test_ds, batch_size=batch_size, shuffle=False, pin_memory=True)\n",
    "\n",
    "print('Data preparation done')"
   ]
  },
  {
   "cell_type": "markdown",
   "metadata": {},
   "source": [
    "# Init model"
   ]
  },
  {
   "cell_type": "code",
   "execution_count": 10,
   "metadata": {},
   "outputs": [
    {
     "name": "stdout",
     "output_type": "stream",
     "text": [
      "Model initialization done\n"
     ]
    }
   ],
   "source": [
    "# Hyper-parameters\n",
    "# it seems a lower hidden_dim makes the model more robust\n",
    "# hidden_dim: 20\n",
    "LSTM_MODEL_NAME = 'models/best_model_lstm.pth'\n",
    "\n",
    "input_dim = X_train_tensor.shape[2]\n",
    "hidden_dim = 20\n",
    "num_layers = 2\n",
    "num_classes = 10\n",
    "\n",
    "# Create the LSTM Model\n",
    "model = LSTMClassifier(input_dim, hidden_dim, num_layers, num_classes).to(device)\n",
    " \n",
    "# Cross Entropy Loss with class weights\n",
    "from sklearn.utils import class_weight\n",
    "vehicles = y_train\n",
    "weights = class_weight.compute_class_weight('balanced', np.sort(np.unique(vehicles)), vehicles)\n",
    "loss_function = nn.CrossEntropyLoss(torch.from_numpy(weights).type(torch.FloatTensor).to(device))\n",
    "#loss_function = nn.CrossEntropyLoss()\n",
    "\n",
    "# Optimizer\n",
    "learning_rate = 0.01\n",
    "optimizer = torch.optim.Adam(model.parameters(), lr=learning_rate)\n",
    "\n",
    "scheduler = torch.optim.lr_scheduler.StepLR(optimizer, step_size=10, gamma=0.5)\n",
    "\n",
    "print('Model initialization done')"
   ]
  },
  {
   "cell_type": "code",
   "execution_count": 11,
   "metadata": {},
   "outputs": [
    {
     "name": "stdout",
     "output_type": "stream",
     "text": [
      "Start training...\n",
      "Epoch 0/49 (0:00:04.003825) --- Train_Loss: 0.496 / Test_Loss: 0.181 / Test-Accuracy: 95 / Balanced Accuracy: 0.95\n",
      "Found better Model, save it...\n",
      "Epoch 1/49 (0:00:08.142438) --- Train_Loss: 0.182 / Test_Loss: 0.145 / Test-Accuracy: 96 / Balanced Accuracy: 0.96\n",
      "Found better Model, save it...\n",
      "Epoch 2/49 (0:00:12.346567) --- Train_Loss: 0.149 / Test_Loss: 0.122 / Test-Accuracy: 96 / Balanced Accuracy: 0.96\n",
      "Found better Model, save it...\n",
      "Epoch 3/49 (0:00:16.616767) --- Train_Loss: 0.125 / Test_Loss: 0.110 / Test-Accuracy: 97 / Balanced Accuracy: 0.97\n",
      "Found better Model, save it...\n",
      "Epoch 4/49 (0:00:20.943104) --- Train_Loss: 0.112 / Test_Loss: 0.100 / Test-Accuracy: 97 / Balanced Accuracy: 0.97\n",
      "Found better Model, save it...\n",
      "Epoch 5/49 (0:00:25.263927) --- Train_Loss: 0.099 / Test_Loss: 0.097 / Test-Accuracy: 97 / Balanced Accuracy: 0.97\n",
      "Found better Model, save it...\n",
      "Epoch 6/49 (0:00:29.782642) --- Train_Loss: 0.096 / Test_Loss: 0.094 / Test-Accuracy: 97 / Balanced Accuracy: 0.97\n",
      "Found better Model, save it...\n",
      "Epoch 7/49 (0:00:34.160984) --- Train_Loss: 0.091 / Test_Loss: 0.083 / Test-Accuracy: 97 / Balanced Accuracy: 0.98\n",
      "Found better Model, save it...\n",
      "Epoch 8/49 (0:00:38.740573) --- Train_Loss: 0.092 / Test_Loss: 0.083 / Test-Accuracy: 97 / Balanced Accuracy: 0.98\n",
      "Epoch 9/49 (0:00:42.845415) --- Train_Loss: 0.084 / Test_Loss: 0.082 / Test-Accuracy: 97 / Balanced Accuracy: 0.98\n",
      "Found better Model, save it...\n",
      "Epoch 10/49 (0:00:46.983711) --- Train_Loss: 0.065 / Test_Loss: 0.072 / Test-Accuracy: 97 / Balanced Accuracy: 0.98\n",
      "Found better Model, save it...\n",
      "Epoch 11/49 (0:00:51.647694) --- Train_Loss: 0.057 / Test_Loss: 0.070 / Test-Accuracy: 98 / Balanced Accuracy: 0.98\n",
      "Found better Model, save it...\n",
      "Epoch 12/49 (0:00:59.191189) --- Train_Loss: 0.056 / Test_Loss: 0.070 / Test-Accuracy: 97 / Balanced Accuracy: 0.98\n",
      "Epoch 13/49 (0:01:06.109375) --- Train_Loss: 0.053 / Test_Loss: 0.071 / Test-Accuracy: 98 / Balanced Accuracy: 0.98\n",
      "Found better Model, save it...\n",
      "Epoch 14/49 (0:01:12.323592) --- Train_Loss: 0.053 / Test_Loss: 0.071 / Test-Accuracy: 97 / Balanced Accuracy: 0.98\n",
      "Epoch 15/49 (0:01:16.608024) --- Train_Loss: 0.051 / Test_Loss: 0.072 / Test-Accuracy: 97 / Balanced Accuracy: 0.98\n",
      "Epoch 16/49 (0:01:21.120656) --- Train_Loss: 0.050 / Test_Loss: 0.064 / Test-Accuracy: 98 / Balanced Accuracy: 0.98\n",
      "Found better Model, save it...\n",
      "Epoch 17/49 (0:01:26.421784) --- Train_Loss: 0.048 / Test_Loss: 0.067 / Test-Accuracy: 98 / Balanced Accuracy: 0.98\n",
      "Epoch 18/49 (0:01:31.912634) --- Train_Loss: 0.046 / Test_Loss: 0.066 / Test-Accuracy: 98 / Balanced Accuracy: 0.98\n",
      "Epoch 19/49 (0:01:37.467654) --- Train_Loss: 0.049 / Test_Loss: 0.062 / Test-Accuracy: 98 / Balanced Accuracy: 0.98\n",
      "Found better Model, save it...\n",
      "Epoch 20/49 (0:01:42.783463) --- Train_Loss: 0.038 / Test_Loss: 0.058 / Test-Accuracy: 98 / Balanced Accuracy: 0.98\n",
      "Epoch 21/49 (0:01:47.133995) --- Train_Loss: 0.032 / Test_Loss: 0.060 / Test-Accuracy: 98 / Balanced Accuracy: 0.98\n",
      "Epoch 22/49 (0:01:51.383968) --- Train_Loss: 0.031 / Test_Loss: 0.057 / Test-Accuracy: 98 / Balanced Accuracy: 0.98\n",
      "Epoch 23/49 (0:01:55.536003) --- Train_Loss: 0.031 / Test_Loss: 0.056 / Test-Accuracy: 98 / Balanced Accuracy: 0.98\n",
      "Epoch 24/49 (0:01:59.863662) --- Train_Loss: 0.030 / Test_Loss: 0.055 / Test-Accuracy: 98 / Balanced Accuracy: 0.99\n",
      "Found better Model, save it...\n",
      "Epoch 25/49 (0:02:04.412157) --- Train_Loss: 0.031 / Test_Loss: 0.056 / Test-Accuracy: 98 / Balanced Accuracy: 0.99\n",
      "Found better Model, save it...\n",
      "Epoch 26/49 (0:02:08.694609) --- Train_Loss: 0.029 / Test_Loss: 0.055 / Test-Accuracy: 98 / Balanced Accuracy: 0.98\n",
      "Epoch 27/49 (0:02:13.038450) --- Train_Loss: 0.028 / Test_Loss: 0.058 / Test-Accuracy: 98 / Balanced Accuracy: 0.98\n",
      "Epoch 28/49 (0:02:17.428450) --- Train_Loss: 0.027 / Test_Loss: 0.058 / Test-Accuracy: 98 / Balanced Accuracy: 0.98\n",
      "Epoch 29/49 (0:02:21.712158) --- Train_Loss: 0.029 / Test_Loss: 0.060 / Test-Accuracy: 98 / Balanced Accuracy: 0.98\n",
      "Epoch 30/49 (0:02:26.084104) --- Train_Loss: 0.024 / Test_Loss: 0.056 / Test-Accuracy: 98 / Balanced Accuracy: 0.98\n",
      "Epoch 31/49 (0:02:30.499036) --- Train_Loss: 0.021 / Test_Loss: 0.054 / Test-Accuracy: 98 / Balanced Accuracy: 0.99\n",
      "Epoch 32/49 (0:02:34.852849) --- Train_Loss: 0.021 / Test_Loss: 0.054 / Test-Accuracy: 98 / Balanced Accuracy: 0.99\n",
      "Found better Model, save it...\n",
      "Epoch 33/49 (0:02:39.149501) --- Train_Loss: 0.020 / Test_Loss: 0.055 / Test-Accuracy: 98 / Balanced Accuracy: 0.98\n",
      "Epoch 34/49 (0:02:43.459717) --- Train_Loss: 0.020 / Test_Loss: 0.058 / Test-Accuracy: 98 / Balanced Accuracy: 0.99\n",
      "Epoch 35/49 (0:02:47.814886) --- Train_Loss: 0.020 / Test_Loss: 0.057 / Test-Accuracy: 98 / Balanced Accuracy: 0.99\n",
      "Epoch 36/49 (0:02:52.112536) --- Train_Loss: 0.019 / Test_Loss: 0.057 / Test-Accuracy: 98 / Balanced Accuracy: 0.99\n",
      "Epoch 37/49 (0:02:56.303760) --- Train_Loss: 0.019 / Test_Loss: 0.058 / Test-Accuracy: 98 / Balanced Accuracy: 0.98\n",
      "Epoch 38/49 (0:03:00.505698) --- Train_Loss: 0.019 / Test_Loss: 0.056 / Test-Accuracy: 98 / Balanced Accuracy: 0.99\n",
      "Epoch 39/49 (0:03:04.737540) --- Train_Loss: 0.020 / Test_Loss: 0.057 / Test-Accuracy: 98 / Balanced Accuracy: 0.99\n",
      "Found better Model, save it...\n",
      "Epoch 40/49 (0:03:08.918542) --- Train_Loss: 0.018 / Test_Loss: 0.057 / Test-Accuracy: 98 / Balanced Accuracy: 0.99\n",
      "Epoch 41/49 (0:03:13.315222) --- Train_Loss: 0.017 / Test_Loss: 0.056 / Test-Accuracy: 98 / Balanced Accuracy: 0.99\n",
      "Epoch 42/49 (0:03:17.773122) --- Train_Loss: 0.015 / Test_Loss: 0.057 / Test-Accuracy: 98 / Balanced Accuracy: 0.99\n",
      "Epoch 43/49 (0:03:22.010935) --- Train_Loss: 0.016 / Test_Loss: 0.056 / Test-Accuracy: 98 / Balanced Accuracy: 0.99\n",
      "Epoch 44/49 (0:03:26.182605) --- Train_Loss: 0.016 / Test_Loss: 0.057 / Test-Accuracy: 98 / Balanced Accuracy: 0.99\n",
      "Epoch 45/49 (0:03:30.418764) --- Train_Loss: 0.015 / Test_Loss: 0.057 / Test-Accuracy: 98 / Balanced Accuracy: 0.99\n",
      "Epoch 46/49 (0:03:34.678482) --- Train_Loss: 0.015 / Test_Loss: 0.057 / Test-Accuracy: 98 / Balanced Accuracy: 0.99\n",
      "Epoch 47/49 (0:03:38.840110) --- Train_Loss: 0.015 / Test_Loss: 0.056 / Test-Accuracy: 98 / Balanced Accuracy: 0.99\n",
      "Epoch 48/49 (0:03:43.063637) --- Train_Loss: 0.015 / Test_Loss: 0.057 / Test-Accuracy: 98 / Balanced Accuracy: 0.99\n",
      "Epoch 49/49 (0:03:47.203694) --- Train_Loss: 0.015 / Test_Loss: 0.057 / Test-Accuracy: 98 / Balanced Accuracy: 0.99\n"
     ]
    },
    {
     "data": {
      "text/plain": [
       "LSTMClassifier(\n",
       "  (lstm): LSTM(28, 20, num_layers=2, batch_first=True, dropout=0.25)\n",
       "  (hidden2target): Linear(in_features=20, out_features=10, bias=True)\n",
       ")"
      ]
     },
     "execution_count": 11,
     "metadata": {},
     "output_type": "execute_result"
    }
   ],
   "source": [
    "start_train = time.time()\n",
    "\n",
    "num_epochs = 50\n",
    "\n",
    "train_losses = []\n",
    "test_losses = []\n",
    "best_test_loss = np.finfo(np.float).max\n",
    "best_test_bal_acc = 0\n",
    "acces = []\n",
    "iteration = 0\n",
    "\n",
    "print('Start training...')\n",
    "for epoch in range(num_epochs):\n",
    "    # Set model to train mode\n",
    "    model.train()\n",
    "    curr_train_loss = 0\n",
    "    curr_test_loss = 0\n",
    "    \n",
    "    # Train\n",
    "    for train_seqs, labels in train_dl:\n",
    "        # Move the data to gpu\n",
    "        train_seqs = train_seqs.to(device)\n",
    "        labels = labels.to(device)\n",
    "        \n",
    "        # Clear gradients\n",
    "        optimizer.zero_grad()\n",
    "                        \n",
    "        # Forward propagation\n",
    "        outputs = model(train_seqs) # calls model.forward(X_train)\n",
    "        \n",
    "        # Calculate cross entropy loss (log_softmax and nll)\n",
    "        train_loss = loss_function(outputs, labels)\n",
    "        curr_train_loss += train_loss.item() * train_seqs.size(0)\n",
    "                \n",
    "        # Calculating gradients\n",
    "        train_loss.backward()\n",
    "        \n",
    "        # Update parameters with computed gradients\n",
    "        optimizer.step()\n",
    "\n",
    "    # Test\n",
    "    # Set model to test mode (no gradient calculations)\n",
    "    model.eval()\n",
    "    with torch.no_grad():\n",
    "        # Calculate accuracy for test set\n",
    "        correct = 0\n",
    "        total = 0\n",
    "\n",
    "        test_preds = []\n",
    "        test_labels = []\n",
    "        \n",
    "        # Iterate through test dataset\n",
    "        for test_seqs, labels in test_dl:\n",
    "            # Move the data to gpu\n",
    "            test_seqs = test_seqs.to(device)\n",
    "            labels = labels.to(device)\n",
    "        \n",
    "            # Forward pass only to get logits/output\n",
    "            outputs = model(test_seqs)\n",
    "\n",
    "            # Calculate loss\n",
    "            test_loss = loss_function(outputs, labels)\n",
    "            curr_test_loss += test_loss.item() * test_seqs.size(0)\n",
    "\n",
    "            # Get predictions from the maximum value\n",
    "            _, predicted = torch.max(outputs.data, 1)\n",
    "\n",
    "            # Total number of labels\n",
    "            total += labels.size(0)\n",
    "\n",
    "            # Total correct predictions\n",
    "            correct += (predicted == labels).sum()\n",
    "            test_preds.append(predicted)\n",
    "            test_labels.append(labels)\n",
    "\n",
    "        curr_train_loss = curr_train_loss / len(train_dl.dataset)\n",
    "        curr_test_loss = curr_test_loss / len(test_dl.dataset)\n",
    "        \n",
    "        test_accuracy = 100 * correct / total\n",
    "        train_losses.append(curr_train_loss)\n",
    "        test_losses.append(curr_test_loss)\n",
    "        acces.append(test_accuracy)\n",
    "        test_bal_acc = balanced_accuracy_score(torch.cat(test_labels).cpu(), torch.cat(test_preds).cpu())\n",
    "    \n",
    "        # Print epoch loss\n",
    "        print(f'Epoch {epoch}/{num_epochs-1} ({str(datetime.timedelta(seconds=time.time()- start_train))}) --- Train_Loss: {curr_train_loss :.3f} / Test_Loss: {curr_test_loss:.3f} / Test-Accuracy: {test_accuracy} / Balanced Accuracy: {test_bal_acc:.2f}')\n",
    "        \n",
    "        # Save the best model\n",
    "        if test_bal_acc >= best_test_bal_acc:\n",
    "            if test_bal_acc == best_test_bal_acc and curr_test_loss > best_test_loss:\n",
    "                pass\n",
    "            else:\n",
    "                print('Found better Model, save it...')\n",
    "                torch.save(model.state_dict(), LSTM_MODEL_NAME)\n",
    "                best_test_bal_acc = test_bal_acc\n",
    "                best_test_loss = curr_test_loss\n",
    "    \n",
    "    # Reduce LR after some epochs\n",
    "    scheduler.step()\n",
    "\n",
    "# Load the best model for further interactions            \n",
    "model = LSTMClassifier(input_dim, hidden_dim, num_layers, num_classes).to(device)\n",
    "model.load_state_dict(torch.load(LSTM_MODEL_NAME))\n",
    "model.eval()"
   ]
  },
  {
   "cell_type": "code",
   "execution_count": 12,
   "metadata": {},
   "outputs": [
    {
     "data": {
      "text/plain": [
       "<matplotlib.legend.Legend at 0x7efcd80696d0>"
      ]
     },
     "execution_count": 12,
     "metadata": {},
     "output_type": "execute_result"
    },
    {
     "data": {
      "image/png": "[encoded data removed]",
      "text/plain": [
       "<Figure size 1440x360 with 2 Axes>"
      ]
     },
     "metadata": {
      "needs_background": "light"
     },
     "output_type": "display_data"
    }
   ],
   "source": [
    "# Plot learning curves\n",
    "import matplotlib.pyplot as plt\n",
    "plt.figure(figsize = (20,5))\n",
    "plt.subplot(1,2, 1)\n",
    "plt.title('Accuracy')\n",
    "plt.plot(acces)\n",
    "\n",
    "plt.subplot(1,2, 2)\n",
    "plt.title('Loss')\n",
    "plt.plot(train_losses, label='Train')\n",
    "plt.plot(test_losses, label='Test')\n",
    "plt.legend()"
   ]
  },
  {
   "cell_type": "markdown",
   "metadata": {},
   "source": [
    "# Validate"
   ]
  },
  {
   "cell_type": "code",
   "execution_count": 13,
   "metadata": {},
   "outputs": [],
   "source": [
    "model = LSTMClassifier(input_dim, hidden_dim, num_layers, num_classes).to(device)\n",
    "model.load_state_dict(torch.load(LSTM_MODEL_NAME))\n",
    "model.eval()\n",
    "\n",
    "with torch.no_grad():\n",
    "    predictions = []\n",
    "    ground_truth = []\n",
    "    for test_seqs, labels in test_dl:\n",
    "        test_seqs = test_seqs.to(device)\n",
    "        labels = labels.to(device)\n",
    "        \n",
    "        # Get probabilities of predictions\n",
    "        outputs = model(test_seqs)\n",
    "        # Get predictions from the maximum value\n",
    "        _, predicted = torch.max(outputs.data, 1)\n",
    "\n",
    "        predictions = np.append(predictions, predicted.cpu().numpy(), axis=0)\n",
    "        ground_truth = np.append(ground_truth, labels.cpu().numpy(), axis=0)"
   ]
  },
  {
   "cell_type": "code",
   "execution_count": 14,
   "metadata": {},
   "outputs": [
    {
     "name": "stdout",
     "output_type": "stream",
     "text": [
      "              precision    recall  f1-score   support\n",
      "\n",
      "         0.0       0.99      0.99      0.99       980\n",
      "         1.0       0.99      0.99      0.99      1135\n",
      "         2.0       0.98      0.99      0.99      1032\n",
      "         3.0       0.99      0.99      0.99      1010\n",
      "         4.0       0.99      0.99      0.99       982\n",
      "         5.0       0.98      0.99      0.99       892\n",
      "         6.0       0.98      0.99      0.99       958\n",
      "         7.0       0.98      0.99      0.99      1028\n",
      "         8.0       0.98      0.98      0.98       974\n",
      "         9.0       0.99      0.97      0.98      1009\n",
      "\n",
      "    accuracy                           0.99     10000\n",
      "   macro avg       0.99      0.99      0.99     10000\n",
      "weighted avg       0.99      0.99      0.99     10000\n",
      "\n"
     ]
    }
   ],
   "source": [
    "confusion_matrix(ground_truth, predictions)\n",
    "print(classification_report(ground_truth, predictions))"
   ]
  },
  {
   "cell_type": "code",
   "execution_count": 15,
   "metadata": {},
   "outputs": [
    {
     "data": {
      "text/plain": [
       "array([[ 973,    0,    0,    1,    0,    1,    4,    1,    0,    0],\n",
       "       [   0, 1128,    1,    0,    0,    0,    2,    0,    4,    0],\n",
       "       [   1,    1, 1021,    0,    1,    0,    1,    4,    3,    0],\n",
       "       [   0,    0,    4,  995,    0,    8,    0,    2,    0,    1],\n",
       "       [   0,    0,    0,    0,  969,    0,    5,    0,    1,    7],\n",
       "       [   1,    1,    0,    4,    1,  880,    3,    0,    1,    1],\n",
       "       [   4,    2,    1,    0,    0,    1,  949,    0,    1,    0],\n",
       "       [   0,    3,    8,    0,    1,    0,    0, 1015,    0,    1],\n",
       "       [   2,    2,    4,    1,    1,    2,    2,    2,  955,    3],\n",
       "       [   1,    1,    0,    1,   10,    2,    0,    8,    5,  981]])"
      ]
     },
     "execution_count": 15,
     "metadata": {},
     "output_type": "execute_result"
    }
   ],
   "source": [
    "confusion_matrix(ground_truth, predictions)"
   ]
  },
  {
   "cell_type": "code",
   "execution_count": null,
   "metadata": {},
   "outputs": [],
   "source": []
  }
 ],
 "metadata": {
  "kernelspec": {
   "display_name": "DL Showcase",
   "language": "python",
   "name": "showcase"
  },
  "language_info": {
   "codemirror_mode": {
    "name": "ipython",
    "version": 3
   },
   "file_extension": ".py",
   "mimetype": "text/x-python",
   "name": "python",
   "nbconvert_exporter": "python",
   "pygments_lexer": "ipython3",
   "version": "3.7.5"
  }
 },
 "nbformat": 4,
 "nbformat_minor": 4
}
