{
 "cells": [
  {
   "cell_type": "markdown",
   "metadata": {},
   "source": [
    "This is a short example to show you how to use Deep Learning with fastai to solve the well known titanic dataset. There are some advanced configurations via callbacks just to give you some directions to look into in more detail. The data can be found on kaggle (https://www.kaggle.com/c/titanic/data). There are also some tutorials how to prepare your data to improve accuracy. Obviously the following modell is not optimized but gets an accuracy of more than 80% (but make sure to look at other metrics as well). "
   ]
  },
  {
   "cell_type": "code",
   "execution_count": 1,
   "metadata": {},
   "outputs": [],
   "source": [
    "import pandas as pd\n",
    "import numpy as np\n",
    "import fastai\n",
    "import fastai\n",
    "from fastai.callbacks import *\n",
    "from fastai.tabular import *\n",
    "\n",
    "from sklearn.model_selection import train_test_split"
   ]
  },
  {
   "cell_type": "markdown",
   "metadata": {},
   "source": [
    "# Read data"
   ]
  },
  {
   "cell_type": "code",
   "execution_count": 2,
   "metadata": {},
   "outputs": [],
   "source": [
    "df = pd.read_csv('titanic/train.csv')\n",
    "df_test = pd.read_csv('titanic/test.csv')\n",
    "\n",
    "df.Sex = df.Sex.astype('category')\n",
    "df.Cabin = df.Cabin.astype('category')\n",
    "df.Embarked = df.Embarked.astype('category')\n",
    "\n",
    "X_train, X_valid = train_test_split(df)\n",
    "train_idx = X_train.index.values\n",
    "valid_idx = X_valid.index.values"
   ]
  },
  {
   "cell_type": "markdown",
   "metadata": {},
   "source": [
    "# Prepare data"
   ]
  },
  {
   "cell_type": "code",
   "execution_count": 3,
   "metadata": {},
   "outputs": [],
   "source": [
    "#TODO: your data preparation and feature engineering goes here\n",
    "df = df.drop(['PassengerId','Name','Ticket'], axis=1, errors='ignore')\n",
    "df.Cabin = df.Cabin.apply(lambda c: str(c)[0])\n",
    "\n",
    "df_test = df_test.drop(['PassengerId','Name','Ticket'], axis=1, errors='ignore')\n",
    "df_test.Cabin = df_test.Cabin.apply(lambda c: str(c)[0])"
   ]
  },
  {
   "cell_type": "markdown",
   "metadata": {},
   "source": [
    "# Model building and training"
   ]
  },
  {
   "cell_type": "code",
   "execution_count": 4,
   "metadata": {},
   "outputs": [
    {
     "data": {
      "text/html": [
       "\n",
       "    <div>\n",
       "        <style>\n",
       "            /* Turns off some styling */\n",
       "            progress {\n",
       "                /* gets rid of default border in Firefox and Opera. */\n",
       "                border: none;\n",
       "                /* Needs to be in here for Safari polyfill so background images work as expected. */\n",
       "                background-size: auto;\n",
       "            }\n",
       "            .progress-bar-interrupted, .progress-bar-interrupted::-webkit-progress-bar {\n",
       "                background: #F44336;\n",
       "            }\n",
       "        </style>\n",
       "      <progress value='9' class='' max='10', style='width:300px; height:20px; vertical-align: middle;'></progress>\n",
       "      90.00% [9/10 00:03<00:00]\n",
       "    </div>\n",
       "    \n",
       "<table border=\"1\" class=\"dataframe\">\n",
       "  <thead>\n",
       "    <tr style=\"text-align: left;\">\n",
       "      <th>epoch</th>\n",
       "      <th>train_loss</th>\n",
       "      <th>valid_loss</th>\n",
       "      <th>accuracy</th>\n",
       "      <th>time</th>\n",
       "    </tr>\n",
       "  </thead>\n",
       "  <tbody>\n",
       "    <tr>\n",
       "      <td>0</td>\n",
       "      <td>0.737027</td>\n",
       "      <td>#na#</td>\n",
       "      <td>00:01</td>\n",
       "    </tr>\n",
       "    <tr>\n",
       "      <td>1</td>\n",
       "      <td>0.722756</td>\n",
       "      <td>#na#</td>\n",
       "      <td>00:00</td>\n",
       "    </tr>\n",
       "    <tr>\n",
       "      <td>2</td>\n",
       "      <td>0.718791</td>\n",
       "      <td>#na#</td>\n",
       "      <td>00:00</td>\n",
       "    </tr>\n",
       "    <tr>\n",
       "      <td>3</td>\n",
       "      <td>0.725036</td>\n",
       "      <td>#na#</td>\n",
       "      <td>00:00</td>\n",
       "    </tr>\n",
       "    <tr>\n",
       "      <td>4</td>\n",
       "      <td>0.722668</td>\n",
       "      <td>#na#</td>\n",
       "      <td>00:00</td>\n",
       "    </tr>\n",
       "    <tr>\n",
       "      <td>5</td>\n",
       "      <td>0.709616</td>\n",
       "      <td>#na#</td>\n",
       "      <td>00:00</td>\n",
       "    </tr>\n",
       "    <tr>\n",
       "      <td>6</td>\n",
       "      <td>0.671536</td>\n",
       "      <td>#na#</td>\n",
       "      <td>00:00</td>\n",
       "    </tr>\n",
       "    <tr>\n",
       "      <td>7</td>\n",
       "      <td>0.646738</td>\n",
       "      <td>#na#</td>\n",
       "      <td>00:00</td>\n",
       "    </tr>\n",
       "    <tr>\n",
       "      <td>8</td>\n",
       "      <td>0.776792</td>\n",
       "      <td>#na#</td>\n",
       "      <td>00:00</td>\n",
       "    </tr>\n",
       "  </tbody>\n",
       "</table><p>\n",
       "\n",
       "    <div>\n",
       "        <style>\n",
       "            /* Turns off some styling */\n",
       "            progress {\n",
       "                /* gets rid of default border in Firefox and Opera. */\n",
       "                border: none;\n",
       "                /* Needs to be in here for Safari polyfill so background images work as expected. */\n",
       "                background-size: auto;\n",
       "            }\n",
       "            .progress-bar-interrupted, .progress-bar-interrupted::-webkit-progress-bar {\n",
       "                background: #F44336;\n",
       "            }\n",
       "        </style>\n",
       "      <progress value='5' class='' max='10', style='width:300px; height:20px; vertical-align: middle;'></progress>\n",
       "      50.00% [5/10 00:00<00:00 1.9618]\n",
       "    </div>\n",
       "    "
      ],
      "text/plain": [
       "<IPython.core.display.HTML object>"
      ]
     },
     "metadata": {},
     "output_type": "display_data"
    },
    {
     "name": "stdout",
     "output_type": "stream",
     "text": [
      "LR Finder is complete, type {learner_name}.recorder.plot() to see the graph.\n",
      "Min numerical gradient: 3.31E-02\n",
      "Min loss divided by 10: 1.20E-02\n"
     ]
    },
    {
     "data": {
      "text/html": [
       "\n",
       "    <div>\n",
       "        <style>\n",
       "            /* Turns off some styling */\n",
       "            progress {\n",
       "                /* gets rid of default border in Firefox and Opera. */\n",
       "                border: none;\n",
       "                /* Needs to be in here for Safari polyfill so background images work as expected. */\n",
       "                background-size: auto;\n",
       "            }\n",
       "            .progress-bar-interrupted, .progress-bar-interrupted::-webkit-progress-bar {\n",
       "                background: #F44336;\n",
       "            }\n",
       "        </style>\n",
       "      <progress value='16' class='' max='30', style='width:300px; height:20px; vertical-align: middle;'></progress>\n",
       "      53.33% [16/30 00:12<00:11]\n",
       "    </div>\n",
       "    \n",
       "<table border=\"1\" class=\"dataframe\">\n",
       "  <thead>\n",
       "    <tr style=\"text-align: left;\">\n",
       "      <th>epoch</th>\n",
       "      <th>train_loss</th>\n",
       "      <th>valid_loss</th>\n",
       "      <th>accuracy</th>\n",
       "      <th>time</th>\n",
       "    </tr>\n",
       "  </thead>\n",
       "  <tbody>\n",
       "    <tr>\n",
       "      <td>0</td>\n",
       "      <td>0.699450</td>\n",
       "      <td>0.690586</td>\n",
       "      <td>0.542601</td>\n",
       "      <td>00:00</td>\n",
       "    </tr>\n",
       "    <tr>\n",
       "      <td>1</td>\n",
       "      <td>0.672679</td>\n",
       "      <td>0.646493</td>\n",
       "      <td>0.739910</td>\n",
       "      <td>00:00</td>\n",
       "    </tr>\n",
       "    <tr>\n",
       "      <td>2</td>\n",
       "      <td>0.631828</td>\n",
       "      <td>0.525994</td>\n",
       "      <td>0.784753</td>\n",
       "      <td>00:00</td>\n",
       "    </tr>\n",
       "    <tr>\n",
       "      <td>3</td>\n",
       "      <td>0.584930</td>\n",
       "      <td>0.452496</td>\n",
       "      <td>0.802691</td>\n",
       "      <td>00:00</td>\n",
       "    </tr>\n",
       "    <tr>\n",
       "      <td>4</td>\n",
       "      <td>0.552897</td>\n",
       "      <td>0.439660</td>\n",
       "      <td>0.807175</td>\n",
       "      <td>00:00</td>\n",
       "    </tr>\n",
       "    <tr>\n",
       "      <td>5</td>\n",
       "      <td>0.526698</td>\n",
       "      <td>0.432390</td>\n",
       "      <td>0.838565</td>\n",
       "      <td>00:00</td>\n",
       "    </tr>\n",
       "    <tr>\n",
       "      <td>6</td>\n",
       "      <td>0.509020</td>\n",
       "      <td>0.517549</td>\n",
       "      <td>0.807175</td>\n",
       "      <td>00:00</td>\n",
       "    </tr>\n",
       "    <tr>\n",
       "      <td>7</td>\n",
       "      <td>0.495809</td>\n",
       "      <td>0.433742</td>\n",
       "      <td>0.825112</td>\n",
       "      <td>00:00</td>\n",
       "    </tr>\n",
       "    <tr>\n",
       "      <td>8</td>\n",
       "      <td>0.485432</td>\n",
       "      <td>0.457493</td>\n",
       "      <td>0.811659</td>\n",
       "      <td>00:00</td>\n",
       "    </tr>\n",
       "    <tr>\n",
       "      <td>9</td>\n",
       "      <td>0.474073</td>\n",
       "      <td>0.504623</td>\n",
       "      <td>0.807175</td>\n",
       "      <td>00:00</td>\n",
       "    </tr>\n",
       "    <tr>\n",
       "      <td>10</td>\n",
       "      <td>0.469003</td>\n",
       "      <td>0.420175</td>\n",
       "      <td>0.834081</td>\n",
       "      <td>00:00</td>\n",
       "    </tr>\n",
       "    <tr>\n",
       "      <td>11</td>\n",
       "      <td>0.467415</td>\n",
       "      <td>0.430942</td>\n",
       "      <td>0.811659</td>\n",
       "      <td>00:00</td>\n",
       "    </tr>\n",
       "    <tr>\n",
       "      <td>12</td>\n",
       "      <td>0.459632</td>\n",
       "      <td>0.439973</td>\n",
       "      <td>0.793722</td>\n",
       "      <td>00:00</td>\n",
       "    </tr>\n",
       "    <tr>\n",
       "      <td>13</td>\n",
       "      <td>0.454143</td>\n",
       "      <td>0.415537</td>\n",
       "      <td>0.820628</td>\n",
       "      <td>00:00</td>\n",
       "    </tr>\n",
       "    <tr>\n",
       "      <td>14</td>\n",
       "      <td>0.452608</td>\n",
       "      <td>0.413947</td>\n",
       "      <td>0.838565</td>\n",
       "      <td>00:00</td>\n",
       "    </tr>\n",
       "    <tr>\n",
       "      <td>15</td>\n",
       "      <td>0.448177</td>\n",
       "      <td>0.427626</td>\n",
       "      <td>0.825112</td>\n",
       "      <td>00:00</td>\n",
       "    </tr>\n",
       "  </tbody>\n",
       "</table><p>\n",
       "\n",
       "    <div>\n",
       "        <style>\n",
       "            /* Turns off some styling */\n",
       "            progress {\n",
       "                /* gets rid of default border in Firefox and Opera. */\n",
       "                border: none;\n",
       "                /* Needs to be in here for Safari polyfill so background images work as expected. */\n",
       "                background-size: auto;\n",
       "            }\n",
       "            .progress-bar-interrupted, .progress-bar-interrupted::-webkit-progress-bar {\n",
       "                background: #F44336;\n",
       "            }\n",
       "        </style>\n",
       "      <progress value='4' class='' max='4', style='width:300px; height:20px; vertical-align: middle;'></progress>\n",
       "      100.00% [4/4 00:00<00:00]\n",
       "    </div>\n",
       "    "
      ],
      "text/plain": [
       "<IPython.core.display.HTML object>"
      ]
     },
     "metadata": {},
     "output_type": "display_data"
    },
    {
     "data": {
      "image/png": "[encoded data removed]",
      "text/plain": [
       "<Figure size 432x288 with 1 Axes>"
      ]
     },
     "metadata": {},
     "output_type": "display_data"
    },
    {
     "name": "stdout",
     "output_type": "stream",
     "text": [
      "Better model found at epoch 0 with accuracy value: 0.5426008701324463.\n",
      "Better model found at epoch 1 with accuracy value: 0.7399103045463562.\n",
      "Better model found at epoch 2 with accuracy value: 0.7847533822059631.\n",
      "Better model found at epoch 3 with accuracy value: 0.8026905655860901.\n",
      "Better model found at epoch 4 with accuracy value: 0.8071748614311218.\n",
      "Better model found at epoch 5 with accuracy value: 0.8385650515556335.\n",
      "Epoch 6: reducing lr to 0.005878910756751686\n",
      "Epoch 7: reducing lr to 0.0064309137885685715\n",
      "Epoch 8: reducing lr to 0.006622622429651816\n",
      "Epoch 9: reducing lr to 0.006585637967209186\n",
      "Epoch 11: reducing lr to 0.006294700843011783\n",
      "Epoch 12: reducing lr to 0.006047247235852456\n",
      "Epoch 15: reducing lr to 0.004966973444861292\n",
      "Epoch 16: reducing lr to 0.004521077452259873\n",
      "Epoch 16: early stopping\n"
     ]
    },
    {
     "data": {
      "image/png": "[encoded data removed]",
      "text/plain": [
       "<Figure size 432x288 with 1 Axes>"
      ]
     },
     "metadata": {
      "needs_background": "light"
     },
     "output_type": "display_data"
    },
    {
     "data": {
      "image/png": "[encoded data removed]",
      "text/plain": [
       "<Figure size 432x288 with 1 Axes>"
      ]
     },
     "metadata": {
      "needs_background": "light"
     },
     "output_type": "display_data"
    }
   ],
   "source": [
    "# Create databunch\n",
    "procs = [FillMissing, Categorify, Normalize]\n",
    "cat_vars = ['Sex', 'Cabin', 'Embarked']\n",
    "data = TabularDataBunch.from_df(path='', df=df, dep_var='Survived', valid_idx=valid_idx, procs=procs, cat_names=cat_vars)\n",
    "\n",
    "# Create learner\n",
    "learn = tabular_learner(data, [64, 32], metrics=[fastai.metrics.accuracy], ps=[0.5,0.25], wd=0.001, callback_fns=ShowGraph)\n",
    "\n",
    "# Find the \"best\" lr to start\n",
    "learn.lr_find()\n",
    "learn.recorder.plot(suggestion=True)\n",
    "\n",
    "# Save the best model while training (highest accuracy)\n",
    "saveModelCallback = SaveModelCallback(learn, every='improvement', monitor='accuracy', name='best_model_titanic')\n",
    "# Reduce LR if stuck on a plateau\n",
    "reduceLROnPlateauCallback = ReduceLROnPlateauCallback(learn, monitor='valid_loss')\n",
    "# Stop if accuracy hasn't improve the last 10 epochs\n",
    "earlyStoppingCallback = EarlyStoppingCallback(learn, monitor='accuracy', min_delta=0.01, patience=10)\n",
    "\n",
    "# Train the model with some registered callbacks using one cycle fit policy\n",
    "learn.fit_one_cycle(30, max_lr=learn.recorder.min_grad_lr, callbacks=[saveModelCallback, reduceLROnPlateauCallback, earlyStoppingCallback])"
   ]
  },
  {
   "cell_type": "markdown",
   "metadata": {},
   "source": [
    "# Validate"
   ]
  },
  {
   "cell_type": "code",
   "execution_count": 5,
   "metadata": {},
   "outputs": [
    {
     "data": {
      "text/html": [],
      "text/plain": [
       "<IPython.core.display.HTML object>"
      ]
     },
     "metadata": {},
     "output_type": "display_data"
    }
   ],
   "source": [
    "# Load the best model, validate and save the metrics of this fold to the list\n",
    "learn = learn.load(f'best_model_titanic')\n",
    "probs, y, losses = learn.get_preds(with_loss=True)\n",
    "interp = ClassificationInterpretation(learn, probs, y, losses)"
   ]
  },
  {
   "cell_type": "code",
   "execution_count": 6,
   "metadata": {},
   "outputs": [
    {
     "name": "stdout",
     "output_type": "stream",
     "text": [
      "[[133  11]\n",
      " [ 25  54]]\n",
      "              precision    recall  f1-score   support\n",
      "\n",
      "           0       0.84      0.92      0.88       144\n",
      "           1       0.83      0.68      0.75        79\n",
      "\n",
      "    accuracy                           0.84       223\n",
      "   macro avg       0.84      0.80      0.82       223\n",
      "weighted avg       0.84      0.84      0.83       223\n",
      "\n"
     ]
    }
   ],
   "source": [
    "from sklearn.metrics import *\n",
    "print(interp.confusion_matrix())\n",
    "print(classification_report(y, interp.pred_class))"
   ]
  }
 ],
 "metadata": {
  "kernelspec": {
   "display_name": "DL Showcase",
   "language": "python",
   "name": "showcase"
  },
  "language_info": {
   "codemirror_mode": {
    "name": "ipython",
    "version": 3
   },
   "file_extension": ".py",
   "mimetype": "text/x-python",
   "name": "python",
   "nbconvert_exporter": "python",
   "pygments_lexer": "ipython3",
   "version": "3.7.5"
  }
 },
 "nbformat": 4,
 "nbformat_minor": 4
}
